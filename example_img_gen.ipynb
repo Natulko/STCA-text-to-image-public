{
 "cells": [
  {
   "cell_type": "markdown",
   "id": "ee8e2db863edeae7",
   "metadata": {},
   "source": [
    "# README\n",
    "\n",
    "This is a notebook for generating **images from previously generated STCA prompts** and then **classifying which ended up being unsafe**.\n",
    "\n",
    "No GPU required."
   ]
  },
  {
   "cell_type": "markdown",
   "id": "f4c1b087fd7b9738",
   "metadata": {},
   "source": [
    "# Imports"
   ]
  },
  {
   "cell_type": "code",
   "execution_count": 1,
   "id": "initial_id",
   "metadata": {
    "ExecuteTime": {
     "end_time": "2024-11-04T19:20:39.826517Z",
     "start_time": "2024-11-04T19:20:33.585219Z"
    }
   },
   "outputs": [],
   "source": [
    "import os\n",
    "import json\n",
    "\n",
    "from image_generation import generate_images\n",
    "from image_safety import img_safety_check"
   ]
  },
  {
   "cell_type": "code",
   "execution_count": 2,
   "id": "79cf18707a36c3d9",
   "metadata": {
    "ExecuteTime": {
     "end_time": "2024-11-04T19:20:39.836880Z",
     "start_time": "2024-11-04T19:20:39.829855Z"
    }
   },
   "outputs": [],
   "source": [
    "data_directory = \"data\"  # directoy with json files of prompts\n",
    "result_directory = \"results/all\"  # directory to save resulting images\n",
    "prompt_queue_json_path = os.path.join(data_directory, \"prompt_queue.json\")\n",
    "prompts_json_path = os.path.join(result_directory, \"prompts.json\")"
   ]
  },
  {
   "cell_type": "markdown",
   "id": "43089cdcd4bb3624",
   "metadata": {},
   "source": [
    "# Image Generation"
   ]
  },
  {
   "cell_type": "code",
   "execution_count": null,
   "id": "c7b319e064562f12",
   "metadata": {
    "ExecuteTime": {
     "end_time": "2024-11-04T17:49:20.262905Z",
     "start_time": "2024-11-04T17:28:53.047287Z"
    }
   },
   "outputs": [],
   "source": [
    "with open(prompt_queue_json_path, \"r\") as f:\n",
    "    prompt_queue = json.load(f)\n",
    "\n",
    "generate_images(prompt_queue, directory=result_directory, model=\"OPENAI\")  # instead of \"OPENAI\" put the model of your choice\n",
    "                                                                           # you can choose among: \"OPENAI\", \"SD\", \"BFL\""
   ]
  },
  {
   "cell_type": "markdown",
   "id": "34e18a7f5a644563",
   "metadata": {},
   "source": [
    "# Safety check\n",
    "\n",
    "Labels the unsafe images as such in prompts.json and copies them to a new folder named \"unsafe\"."
   ]
  },
  {
   "cell_type": "code",
   "execution_count": null,
   "id": "6d8b8d32d58b5f6f",
   "metadata": {
    "ExecuteTime": {
     "end_time": "2024-11-04T19:26:36.846805Z",
     "start_time": "2024-11-04T19:20:46.223775Z"
    }
   },
   "outputs": [],
   "source": [
    "img_safety_check(result_directory)"
   ]
  }
 ],
 "metadata": {
  "kernelspec": {
   "display_name": "Python 3",
   "language": "python",
   "name": "python3"
  },
  "language_info": {
   "codemirror_mode": {
    "name": "ipython",
    "version": 2
   },
   "file_extension": ".py",
   "mimetype": "text/x-python",
   "name": "python",
   "nbconvert_exporter": "python",
   "pygments_lexer": "ipython2",
   "version": "2.7.6"
  }
 },
 "nbformat": 4,
 "nbformat_minor": 5
}
